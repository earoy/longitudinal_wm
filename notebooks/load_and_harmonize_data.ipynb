{
 "cells": [
  {
   "cell_type": "code",
   "execution_count": null,
   "id": "5d127ec1",
   "metadata": {},
   "outputs": [],
   "source": [
    "import seaborn as sns\n",
    "import pandas as pd\n",
    "import numpy as np\n",
    "import matplotlib.pyplot as plt\n",
    "from importlib import reload\n",
    "from neurocombat_sklearn import CombatModel\n",
    "from sklearn.impute import SimpleImputer\n",
    "import afqinsight\n",
    "from tqdm import tqdm\n",
    "import afqinsight\n",
    "import sys\n",
    "from scipy import stats as spstats\n",
    "from sklearn.preprocessing import scale\n",
    "\n",
    "\n",
    "sys.path.insert(0,'../utils')\n",
    "\n",
    "from read_math_utils_hbn import *\n",
    "from read_math_utils_abcd import *\n",
    "from read_math_utils_ping import *\n"
   ]
  },
  {
   "cell_type": "markdown",
   "id": "81c53cbe",
   "metadata": {},
   "source": [
    "## Load, Harmonize, Combine, and Save HBN data"
   ]
  },
  {
   "cell_type": "code",
   "execution_count": null,
   "id": "a7d09593",
   "metadata": {},
   "outputs": [],
   "source": [
    "\n",
    "# info on loading afq data: https://richiehalford.org/AFQ-Insight/api.html#dataset-loader\n",
    "X_r, y_r, groups_r, feature_names_r, group_names_r,subjects_r,classes_r = afqinsight.load_afq_data('.',\n",
    "                                                                                                   fn_nodes='../data/hbn/nodes_hcp.csv',\n",
    "                                                                                                   fn_subjects='../data/hbn/subjects_hcp.csv',\n",
    "                                                                                                   target_cols='wiat_reading_comp',\n",
    "                                                                                                   )\n",
    "\n"
   ]
  },
  {
   "cell_type": "code",
   "execution_count": null,
   "id": "50bac8c4",
   "metadata": {},
   "outputs": [],
   "source": [
    "## Get sites for Neuro_ComBat\n",
    "\n",
    "df_sites = pd.read_csv('../data/hbn/combined_tract_profiles.csv',\n",
    "                       na_values={\"NaN\",\"NA\",\"n/a\",\"\",\"\\t\"})\n",
    "df_sites = df_sites[[\"subjectID\", \"sessionID\"]].copy()\n",
    "df_sites[\"site_id\"] = df_sites[\"sessionID\"].apply(lambda s: s.replace(\"HBNsite\", \"\"))\n",
    "df_sites.drop(columns=[\"sessionID\"], inplace=True)\n",
    "df_sites[\"site_id\"] = df_sites[\"site_id\"].astype(\"category\")\n",
    "df_sites.set_index(\"subjectID\", inplace=True)\n",
    "df_sites = df_sites[~df_sites.index.duplicated(keep=\"first\")]\n",
    "# df_sites = df_sites[df_sites['site_id'] != 'SI'] \n",
    "df_sites = pd.DataFrame(index=subjects_r).merge(\n",
    "    df_sites, how=\"left\", left_index=True, right_index=True\n",
    ")\n",
    "df_sites[\"site_idx\"] = df_sites[\"site_id\"].map({\"RU\": 0, \"CBIC\": 1, \"CUNY\": 2})\n",
    "# df_sites = df_sites[df_sites['site_id'] != 'SI'] \n",
    "# df_sites = df_sites.iloc[nan_mask, :]\n",
    "nan_mask = np.logical_not(df_sites['site_idx'].isna()) # to get rid of SI participants\n",
    "print(df_sites.shape)\n",
    "df_sites.head()"
   ]
  },
  {
   "cell_type": "code",
   "execution_count": null,
   "id": "aaf1be10",
   "metadata": {},
   "outputs": [],
   "source": [
    "# filtere out SI participants from X_r and y_r\n",
    "\n",
    "df_sites = df_sites.loc[nan_mask, :]\n",
    "X_r = X_r[nan_mask, :]\n",
    "y_r = y_r[nan_mask]\n",
    "subjects_r = [subject for filt, subject in zip(nan_mask, subjects_r) if filt]\n"
   ]
  },
  {
   "cell_type": "code",
   "execution_count": null,
   "id": "b829b43d",
   "metadata": {},
   "outputs": [],
   "source": [
    "## Harmonize train and test data\n",
    "\n",
    "imputer = SimpleImputer(strategy=\"median\")\n",
    "X_r_imputed = imputer.fit_transform(X_r)\n",
    "X_r_site_harmonized = CombatModel().fit_transform(\n",
    "    X_r_imputed,\n",
    "    df_sites[[\"site_idx\"]],\n",
    "    None,\n",
    "    None,\n",
    ")\n"
   ]
  },
  {
   "cell_type": "code",
   "execution_count": null,
   "id": "f5dc78cb",
   "metadata": {},
   "outputs": [],
   "source": [
    "# this file was generated using coinsparse: https://github.com/richford/coinsparse\n",
    "\n",
    "pheno_df = pd.read_csv('../data/hbn/pheno_df.csv')\n",
    "pheno_df[\"wiat_math_comp\"] = pheno_df[['WIAT_Num_Stnd', 'WIAT_MP_Stnd']].mean(axis=1)\n",
    "pheno_df[\"wiat_reading_comp\"] = pheno_df[['WIAT_Word_Stnd', 'WIAT_Pseudo_Stnd']].mean(axis=1)\n",
    "\n",
    "#drop anyone who's missing composite score -- nobody is\n",
    "pheno_df = pheno_df[pheno_df['wiat_math_comp'].notna()]\n",
    "pheno_df = pheno_df[pheno_df['wiat_reading_comp'].notna()]\n"
   ]
  },
  {
   "cell_type": "code",
   "execution_count": null,
   "id": "1d07e7b7",
   "metadata": {},
   "outputs": [],
   "source": [
    "# build df with harmonized tract profiles and pheno data\n",
    "\n",
    "combo_df = combine_target_feature_df(X_r_site_harmonized,subjects_r,pheno_df,'EID',\n",
    "                             ['wiat_reading_comp','wiat_math_comp','TOWRE_Total_Scaled','WIAT_Word_Stnd','WIAT_Num_Stnd','Age','scan_site_id','FSQ_04'],feature_names_r)\n",
    "\n",
    "# dummy code parental income and scan site\n",
    "combo_df = pd.concat([combo_df, pd.get_dummies(combo_df['FSQ_04']).add_prefix('ses_')], axis=1)\n",
    "combo_df = pd.concat([combo_df, pd.get_dummies(combo_df['scan_site_id']).add_prefix('site_')], axis=1)\n",
    "combo_df['Age'] = pd.to_numeric(combo_df['Age'])\n",
    "del combo_df['FSQ_04']\n",
    "\n",
    "print(combo_df.shape)\n",
    "combo_df.head()\n",
    "\n",
    "combo_df.to_csv('../data/hbn/combo_df.csv', index=False)"
   ]
  },
  {
   "cell_type": "markdown",
   "id": "47e7b91d",
   "metadata": {},
   "source": [
    "## Load, Combine, and Save ABCD data"
   ]
  },
  {
   "cell_type": "code",
   "execution_count": null,
   "id": "3d553f37",
   "metadata": {},
   "outputs": [],
   "source": [
    "## Load diffusion data\n",
    "\n",
    "tract_profiles_1 = pd.read_csv('../data/abcd/abcd_dmdtifp101.txt',delimiter = \"\\t\",skiprows=[1])\n",
    "# for overview of columns: https://nda.nih.gov/data_structure.html?short_name=abcd_dmdtifp101\n",
    "\n",
    "\n",
    "# get just fa and md\n",
    "tract_profiles_fa_md = tract_profiles_1.iloc[:,:93]\n",
    "\n",
    "# interesting bundles: \n",
    "    # FA - arc_l: dmdtifp1_23 arc_r: dmdtifp1_22 MD - arc_l: dmdtifp1_64 arc_r: dmdtifp1_65\n",
    "    # FA - slf_l: dmdtifp1_21 slf_r: dmdtifp1_20 MD - slf_l: dmdtifp1_63 slf_r: dmdtifp1_62\n",
    "    # FA - ilf_l: dmdtifp1_14 ilf_r: dmdtifp1_13 MD - ilf_l: dmdtifp1_56 ilf_r: dmdtifp1_55\n",
    "    # FA - cc: dmdtifp1_19 MD - cc: dmdtifp1_61\n",
    "\n"
   ]
  },
  {
   "cell_type": "code",
   "execution_count": null,
   "id": "28174dbd",
   "metadata": {},
   "outputs": [],
   "source": [
    "## Load reading data\n",
    "\n",
    "reading = pd.read_csv('../data/abcd/abcd_tbss01.txt',delimiter = \"\\t\",skiprows=[1])\n",
    "\n",
    "# 456 subjects don't have age corrected reading scores\n",
    "\n",
    "reading = reading[['src_subject_id','eventname','nihtbx_reading_agecorrected','nihtbx_reading_uncorrected','interview_age']]\n",
    "reading = reading[reading['nihtbx_reading_agecorrected'].isnull()==False]\n"
   ]
  },
  {
   "cell_type": "code",
   "execution_count": null,
   "id": "b7def05d",
   "metadata": {},
   "outputs": [],
   "source": [
    "final_df = tract_profiles_fa_md.merge(reading[['src_subject_id','eventname','nihtbx_reading_agecorrected','nihtbx_reading_uncorrected']],\n",
    "                                      how='left', on=['src_subject_id','eventname'])\n",
    "\n",
    "final_df['low_r'] = \"other\"\n",
    "final_df.loc[final_df['nihtbx_reading_agecorrected']<=90,'low_r'] = \"low_r\"\n",
    "final_df['low_r_dummy'] = pd.get_dummies(final_df['low_r'])['low_r']\n",
    "\n",
    "final_df_t1 = final_df[final_df['eventname']=='baseline_year_1_arm_1']\n",
    "\n",
    "final_df_t1 = final_df_t1.rename(columns={\"dmdtifp1_22\":\"ARC_R\", \"dmdtifp1_23\": \"ARC_L\",\"dmdtifp1_20\":'SLF_R',\n",
    "                            \"dmdtifp1_21\":'SLF_L',\"dmdtifp1_14\":'ILF_L',\"dmdtifp1_13\":'ILF_R','dmdtifp1_19':'CC',\n",
    "                               'nihtbx_reading_agecorrected':'NIH_TBX_READ_CORR','nihtbx_reading_uncorrected':'NIH_TBX_READ_UNCORR'})\n"
   ]
  },
  {
   "cell_type": "code",
   "execution_count": null,
   "id": "6ad6c10a",
   "metadata": {},
   "outputs": [],
   "source": [
    "final_df_t1_filt = final_df_t1[['src_subject_id','low_r','eventname','interview_age','ARC_L','ARC_R','ILF_L','ILF_R',\n",
    "                            'SLF_L','SLF_R','CC','NIH_TBX_READ_UNCORR','NIH_TBX_READ_CORR',\n",
    "                                'low_r_dummy']].dropna(subset=['ARC_L','ARC_R','ILF_L','ILF_R','SLF_L','SLF_R','CC','NIH_TBX_READ_UNCORR'],axis=0)\n",
    "\n",
    "final_df_t1_filt = final_df_t1_filt[(np.abs(spstats.zscore(final_df_t1_filt[['ARC_L','ARC_R','ILF_L','ILF_R',\n",
    "                            'SLF_L','SLF_R','CC','NIH_TBX_READ_UNCORR','NIH_TBX_READ_CORR']])) < 3).all(axis=1)]\n",
    "\n",
    "final_df_t1_filt.to_csv('../data/abcd/abcd_plot_data.csv')"
   ]
  },
  {
   "cell_type": "markdown",
   "id": "f576fb47",
   "metadata": {},
   "source": [
    "## Load, Combine, and Save PING data"
   ]
  },
  {
   "cell_type": "code",
   "execution_count": null,
   "id": "226280cb",
   "metadata": {},
   "outputs": [],
   "source": [
    "## Load diffusion data\n",
    "\n",
    "tract_profiles = pd.read_csv('../data/ping/pdti01.txt',delimiter = \"\\t\",skiprows=[1])\n",
    "\n",
    "#select age, id, sex, site, and fa/md columns\n",
    "tract_profiles = tract_profiles.filter(regex=r'(dti_fiber_fa|dti_fiber_md|_id|interview_age|sex|site|study)')\n",
    "\n",
    "tract_profiles = tract_profiles[tract_profiles['dti_fiber_fa_r_fx'].notnull()]\n"
   ]
  },
  {
   "cell_type": "code",
   "execution_count": null,
   "id": "20d2350c",
   "metadata": {},
   "outputs": [],
   "source": [
    "## Load reading data\n",
    "\n",
    "reading = pd.read_csv('../data/ping/orrt01.txt',delimiter = \"\\t\",skiprows=[1])\n",
    "\n",
    "# #select id and raw/age corrected reading scores\n",
    "reading = reading.filter(regex=r'(_id|read|interview_age)')\n",
    "\n",
    "reading['age'] = (reading['interview_age']/12).round()\n",
    "reading = reading[reading['age']!=0.0]\n",
    "reading = reading[reading['tbx_reading_score'].isna()==False]\n",
    "\n"
   ]
  },
  {
   "cell_type": "code",
   "execution_count": null,
   "id": "12bc95f6",
   "metadata": {},
   "outputs": [],
   "source": [
    "low_r_df = pd.DataFrame()\n",
    "\n",
    "age_range = reading['age'].unique()\n",
    "reading3 = reading[reading['age']==3]\n",
    "\n",
    "for age in age_range:\n",
    "    temp_df = reading[reading['age']==age]\n",
    "    temp_df = temp_df.reset_index()\n",
    "    temp_df['zscore']=scale(temp_df['tbx_reading_score'])\n",
    "    temp_df['low_r'] = temp_df['zscore']<-1\n",
    "    temp_df = temp_df[['src_subject_id','low_r','zscore','tbx_reading_score']]\n",
    "    low_r_df = low_r_df.append(temp_df)"
   ]
  },
  {
   "cell_type": "code",
   "execution_count": null,
   "id": "7fb1ec07",
   "metadata": {},
   "outputs": [],
   "source": [
    "reading.set_index('src_subject_id',drop=True,inplace=True)\n",
    "low_r_df.set_index('src_subject_id',drop=True,inplace=True)\n",
    "tract_profiles.set_index('src_subject_id',drop=True,inplace=True)\n"
   ]
  },
  {
   "cell_type": "code",
   "execution_count": null,
   "id": "db4d95ff",
   "metadata": {},
   "outputs": [],
   "source": [
    "final_df = tract_profiles.merge(reading['tbx_reading_score'],how='left',left_index=True,right_index=True)\n",
    "final_df = final_df.merge(low_r_df['zscore'],how='left',left_index=True,right_index=True)\n",
    "\n",
    "final_df['reading_score_bin'],qbins = pd.qcut(final_df['tbx_reading_score'],q=2,retbins=True,labels=False)\n",
    "final_df['reading_group'] = 'other'\n",
    "final_df.loc[final_df.reading_score_bin == 0, 'reading_group'] = \"low_r\"\n",
    "final_df['low_r'] = \"other\"\n",
    "final_df.loc[final_df['zscore']<-1,'low_r'] = \"low_r\"\n",
    "\n",
    "final_df['age_bin'],qbins = pd.qcut(final_df['tbx_reading_score'],q=3,retbins=True,labels=False)\n",
    "\n",
    "final_df.to_csv('../data/ping/final_df_ping.csv')"
   ]
  },
  {
   "cell_type": "code",
   "execution_count": null,
   "id": "94c00d02",
   "metadata": {},
   "outputs": [],
   "source": []
  },
  {
   "cell_type": "code",
   "execution_count": null,
   "id": "cf74c2c9",
   "metadata": {},
   "outputs": [],
   "source": []
  }
 ],
 "metadata": {
  "kernelspec": {
   "display_name": "Python [conda env:old_scipy] *",
   "language": "python",
   "name": "conda-env-old_scipy-py"
  },
  "language_info": {
   "codemirror_mode": {
    "name": "ipython",
    "version": 3
   },
   "file_extension": ".py",
   "mimetype": "text/x-python",
   "name": "python",
   "nbconvert_exporter": "python",
   "pygments_lexer": "ipython3",
   "version": "3.7.4"
  }
 },
 "nbformat": 4,
 "nbformat_minor": 5
}
